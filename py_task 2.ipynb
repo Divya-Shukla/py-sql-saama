{
 "cells": [
  {
   "cell_type": "markdown",
   "metadata": {},
   "source": [
    "'''\n",
    "TASK 2\n",
    "=======================================================\n",
    "Our customer records are sometimes a little messy and contain duplicate entires. \n",
    "For instance, we might have two records like \"Pfizer\" and \"Pfizer Incorporated (old DO NOT USE)\". \n",
    "Please write a small basic function to merge these records together. We've provided a few example inputs below. \n",
    "\n",
    "We are aware this is a very difficult problem: we're looking for what you can do quickly as a basic case, \n",
    "not an ideal solution. \n",
    "\n",
    "Equipment ONLY - Saama Technologies\n",
    "Saama Technologies\n",
    "SaamaTech, Inc.\n",
    "Takeda Pharmaceutical SA - Central Office\n",
    "*** DO NOT USE *** Takeda Pharmaceutical\n",
    "Takeda Pharmaceutical, SA\n",
    "Ship to AstraZeneca\n",
    "AstraZeneca, gmbh Munich\n",
    "AstraZeneca (use AstraZeneca, gmbh Munich acct 84719482-A)\n",
    "\n",
    "Use your own interpretation of the question and feel free to provide a written explanation for your choices as well.\n",
    "\n",
    "'''"
   ]
  },
  {
   "cell_type": "markdown",
   "metadata": {},
   "source": [
    "'''\n",
    "Explanation: \n",
    "Since the task 2 says 'we might have two records like \"Pfizer\" and \"Pfizer Incorporated (old DO NOT USE)\". \n",
    "Please write a small basic function to merge these records together'. \n",
    "\n",
    "From this I interpreted that in the file \n",
    "whichever record have \"Pfizer\", we need to use keyword \"Pfizer Incorporated\" in place of \"Pfizer\" since it says \n",
    "\"\"(old DO NOT USE)\" meaning not to use older keyword i.e. \"Pfizer\" and use newer keyword i.e. \"Pfizer Incorporated\". \n",
    "Meaning we want to perform data cleansing by replacing \"Pfizer\" with \"Pfizer Incorporated\".\n",
    "\n",
    "Similalry I have kept the example data into excel file named \"data_to_merge.xlsx\". I am reading this file in pandas \n",
    "dataframe, parsing the whole file records and I am \n",
    "replacing the records that has string \"Saama\" in it by \"SaamaTech, Inc\". \n",
    "Replacing the records that has string \"Takeda\" in it by \"Takeda Pharmaceutical, SA\" becuase task said *** DO NOT USE *** \n",
    "Takeda Pharmaceutical so used keyword \"Takeda Pharmaceutical, SA\" instead for replacement.\n",
    "Replacing the records that has string \"AstraZeneca\" in it by \"AstraZeneca, gmbh Munich acct 84719482-A\" because task \n",
    "example specifically mentioned to \"use AstraZeneca, gmbh Munich acct 84719482-A\"\n",
    "\n",
    "'''\n"
   ]
  },
  {
   "cell_type": "code",
   "execution_count": 1,
   "metadata": {},
   "outputs": [
    {
     "name": "stdout",
     "output_type": "stream",
     "text": [
      "                                            Keywords\n",
      "0                Equipment ONLY - Saama Technologies\n",
      "1                                 Saama Technologies\n",
      "2                                    SaamaTech, Inc.\n",
      "3          Takeda Pharmaceutical SA - Central Office\n",
      "4           *** DO NOT USE *** Takeda Pharmaceutical\n",
      "5                          Takeda Pharmaceutical, SA\n",
      "6                                Ship to AstraZeneca\n",
      "7                           AstraZeneca, gmbh Munich\n",
      "8  AstraZeneca (use AstraZeneca, gmbh Munich acct...\n"
     ]
    }
   ],
   "source": [
    "#Read excel file via pandas dataframe\n",
    "import pandas as pd\n",
    "\n",
    "df = pd.read_excel(r'data_to_merge.xlsx')\n",
    "print (df)"
   ]
  },
  {
   "cell_type": "code",
   "execution_count": 2,
   "metadata": {},
   "outputs": [
    {
     "name": "stdout",
     "output_type": "stream",
     "text": [
      "Equipment ONLY - Saama Technologies\n",
      "Saama Technologies\n",
      "SaamaTech, Inc.\n",
      "Takeda Pharmaceutical SA - Central Office\n",
      "*** DO NOT USE *** Takeda Pharmaceutical\n",
      "Takeda Pharmaceutical, SA\n",
      "Ship to AstraZeneca\n",
      "AstraZeneca, gmbh Munich\n",
      "AstraZeneca (use AstraZeneca, gmbh Munich acct 84719482-A)\n"
     ]
    }
   ],
   "source": [
    "#parse the content of the file \n",
    "for idx in range(len(df)):\n",
    "    string = df.loc[idx,'Keywords']\n",
    "    print(string)"
   ]
  },
  {
   "cell_type": "code",
   "execution_count": 3,
   "metadata": {},
   "outputs": [
    {
     "name": "stdout",
     "output_type": "stream",
     "text": [
      "SaamaTech, Inc\n",
      "SaamaTech, Inc\n",
      "SaamaTech, Inc\n",
      "Takeda Pharmaceutical, SA\n",
      "Takeda Pharmaceutical, SA\n",
      "Takeda Pharmaceutical, SA\n",
      "AstraZeneca, gmbh Munich acct 84719482-A\n",
      "AstraZeneca, gmbh Munich acct 84719482-A\n",
      "AstraZeneca, gmbh Munich acct 84719482-A\n"
     ]
    }
   ],
   "source": [
    "#Replacing records whic have string \"Saama\", \"Takeda\", \"AstraZeneca\" with new strings in a way to perform merge.\n",
    "for idx in range(len(df)):\n",
    "    string = df.loc[idx,'Keywords']\n",
    "    if \"Saama\" in string: \n",
    "        new_string = string.replace(string, \"SaamaTech, Inc\")\n",
    "    if \"Takeda\" in string: \n",
    "        new_string = string.replace(string, \"Takeda Pharmaceutical, SA\")\n",
    "    if \"AstraZeneca\" in string: \n",
    "        new_string = string.replace(string, \"AstraZeneca, gmbh Munich acct 84719482-A\")\n",
    "    print(new_string)"
   ]
  },
  {
   "cell_type": "code",
   "execution_count": null,
   "metadata": {},
   "outputs": [],
   "source": []
  }
 ],
 "metadata": {
  "kernelspec": {
   "display_name": "Python 3",
   "language": "python",
   "name": "python3"
  },
  "language_info": {
   "codemirror_mode": {
    "name": "ipython",
    "version": 3
   },
   "file_extension": ".py",
   "mimetype": "text/x-python",
   "name": "python",
   "nbconvert_exporter": "python",
   "pygments_lexer": "ipython3",
   "version": "3.8.5"
  }
 },
 "nbformat": 4,
 "nbformat_minor": 4
}
